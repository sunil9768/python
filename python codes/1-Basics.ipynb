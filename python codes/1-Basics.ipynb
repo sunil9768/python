{
 "cells": [
  {
   "cell_type": "markdown",
   "metadata": {},
   "source": [
    "# Python"
   ]
  },
  {
   "cell_type": "markdown",
   "metadata": {},
   "source": [
    "Python is a widely used high-level programming language for general-purpose programming, created by Guido van Rossum and first released in 1991. It's an interpreted language.\n",
    "\n",
    "Python features a dynamic type system and automatic memory management. It also supports programming paradigms such as OOP, imperative, functional programming and procedural styles."
   ]
  },
  {
   "cell_type": "code",
   "execution_count": 3,
   "metadata": {},
   "outputs": [
    {
     "data": {
      "image/png": "[encoded data removed]",
      "text/plain": [
       "<IPython.core.display.Image object>"
      ]
     },
     "execution_count": 3,
     "metadata": {},
     "output_type": "execute_result"
    }
   ],
   "source": [
    "from IPython.display import Image \n",
    "Image(\"py-diagram.png\")"
   ]
  },
  {
   "cell_type": "markdown",
   "metadata": {},
   "source": [
    "# \"Life is short, you need Python\""
   ]
  },
  {
   "cell_type": "markdown",
   "metadata": {},
   "source": [
    "You will shortly realize this."
   ]
  },
  {
   "cell_type": "markdown",
   "metadata": {},
   "source": [
    "# Print"
   ]
  },
  {
   "cell_type": "code",
   "execution_count": 4,
   "metadata": {},
   "outputs": [
    {
     "name": "stdout",
     "output_type": "stream",
     "text": [
      "hello world!\n"
     ]
    }
   ],
   "source": [
    "print(\"hello world!\")"
   ]
  },
  {
   "cell_type": "markdown",
   "metadata": {},
   "source": [
    "You can use single, double or triple quotes. Generally, people use single quote for a string, double quote for a line and triple quote for a paragraph."
   ]
  },
  {
   "cell_type": "code",
   "execution_count": 5,
   "metadata": {},
   "outputs": [
    {
     "name": "stdout",
     "output_type": "stream",
     "text": [
      "Welcome to this Python workshop.\n",
      "Python is widely used programming language.\n"
     ]
    }
   ],
   "source": [
    "print(\"\"\"Welcome to this Python workshop.\n",
    "Python is widely used programming language.\"\"\")"
   ]
  },
  {
   "cell_type": "markdown",
   "metadata": {},
   "source": [
    "Later, we will see other print formats."
   ]
  },
  {
   "cell_type": "markdown",
   "metadata": {},
   "source": [
    "# Variables"
   ]
  },
  {
   "cell_type": "markdown",
   "metadata": {},
   "source": [
    "Variables are nothing but reserved memory locations to store values. As I mentioned earlier, Python features a <b> dynamic type system</b> that means you don't have specify data type each time you create a new variable.\n",
    "\n",
    "Python has five standard data types : \n",
    "<ul>\n",
    "    <li> <b> Number </b></li>\n",
    "    <li> <b> String </b></li>\n",
    "    <li> <b> List </b></li>\n",
    "    <li> <b> Tuple </b></li>\n",
    "    <li> <b> Dictionary </b></li>\n",
    "</ul>"
   ]
  },
  {
   "cell_type": "code",
   "execution_count": 13,
   "metadata": {
    "collapsed": true
   },
   "outputs": [],
   "source": [
    "num1 = 1234                                              #int\n",
    "num2 = 123.45                                            #float\n",
    "char1 = 'S'                                              #char\n",
    "string1 = \"Alpha College of Engineering and Technology\"  #string\n",
    "str1 = None                                              #denotes the lack of value\n",
    "bool1 = True                                             #boolean"
   ]
  },
  {
   "cell_type": "code",
   "execution_count": 50,
   "metadata": {},
   "outputs": [
    {
     "name": "stdout",
     "output_type": "stream",
     "text": [
      "Alpha College of Engineering and Technology\n",
      "1234\n",
      "123.45\n",
      "S\n"
     ]
    }
   ],
   "source": [
    "print(string1)\n",
    "print(num1)\n",
    "print(num2)\n",
    "print(char1)"
   ]
  },
  {
   "cell_type": "code",
   "execution_count": 51,
   "metadata": {},
   "outputs": [
    {
     "name": "stdout",
     "output_type": "stream",
     "text": [
      "colcolcolcolcol\n"
     ]
    }
   ],
   "source": [
    "print('col'*5)"
   ]
  },
  {
   "cell_type": "code",
   "execution_count": 22,
   "metadata": {},
   "outputs": [
    {
     "name": "stdout",
     "output_type": "stream",
     "text": [
      "123\n",
      "Python\n"
     ]
    }
   ],
   "source": [
    "#multiple assignment\n",
    "\n",
    "a,b,c = 's', 123, \"Python\"\n",
    "print(b)\n",
    "print(c)"
   ]
  },
  {
   "cell_type": "code",
   "execution_count": 42,
   "metadata": {},
   "outputs": [
    {
     "name": "stdout",
     "output_type": "stream",
     "text": [
      " Hello Ankit your salary is 12000\n"
     ]
    }
   ],
   "source": [
    "#other print formats\n",
    "str1 = \"Ankit\"\n",
    "balance = 12000\n",
    "print(\" Hello %s your salary is %d\" % (str1, balance) )"
   ]
  },
  {
   "cell_type": "markdown",
   "metadata": {},
   "source": [
    "<ul>\n",
    "    <li> %s -> string </li>\n",
    "    <li> %d -> Integer</li>\n",
    "     <li> %f -> Float </li>\n",
    "<li> %o -> Octal </li>\n",
    "<li> %x -> Hexadecimal </li>\n",
    "<li> %e -> exponential </li>\n",
    "</ul>"
   ]
  },
  {
   "cell_type": "code",
   "execution_count": 43,
   "metadata": {},
   "outputs": [
    {
     "name": "stdout",
     "output_type": "stream",
     "text": [
      "Hello Ankit your salary is 12000\n"
     ]
    }
   ],
   "source": [
    "print(\"Hello {} your salary is {}\".format(str1, balance))"
   ]
  },
  {
   "cell_type": "markdown",
   "metadata": {},
   "source": [
    "# User Input"
   ]
  },
  {
   "cell_type": "code",
   "execution_count": 55,
   "metadata": {},
   "outputs": [
    {
     "name": "stdout",
     "output_type": "stream",
     "text": [
      "Enter your namesavan\n"
     ]
    }
   ],
   "source": [
    "str1 = input(\"Enter your name\")"
   ]
  },
  {
   "cell_type": "code",
   "execution_count": 57,
   "metadata": {},
   "outputs": [
    {
     "name": "stdout",
     "output_type": "stream",
     "text": [
      "Enter your salary13000\n"
     ]
    }
   ],
   "source": [
    "#what if I want an int?\n",
    "num1 = int(input(\"Enter your salary\"))"
   ]
  },
  {
   "cell_type": "code",
   "execution_count": 59,
   "metadata": {},
   "outputs": [
    {
     "data": {
      "text/plain": [
       "int"
      ]
     },
     "execution_count": 59,
     "metadata": {},
     "output_type": "execute_result"
    }
   ],
   "source": [
    "type(num1)"
   ]
  },
  {
   "cell_type": "code",
   "execution_count": 61,
   "metadata": {},
   "outputs": [
    {
     "data": {
      "text/plain": [
       "str"
      ]
     },
     "execution_count": 61,
     "metadata": {},
     "output_type": "execute_result"
    }
   ],
   "source": [
    "type(str1)"
   ]
  }
 ],
 "metadata": {
  "anaconda-cloud": {},
  "kernelspec": {
   "display_name": "Python 3",
   "language": "python",
   "name": "python3"
  },
  "language_info": {
   "codemirror_mode": {
    "name": "ipython",
    "version": 3
   },
   "file_extension": ".py",
   "mimetype": "text/x-python",
   "name": "python",
   "nbconvert_exporter": "python",
   "pygments_lexer": "ipython3",
   "version": "3.6.5"
  }
 },
 "nbformat": 4,
 "nbformat_minor": 1
}
